{
 "cells": [
  {
   "cell_type": "code",
   "execution_count": 1,
   "metadata": {},
   "outputs": [],
   "source": [
    "# Import all the libraries\n",
    "import pandas as pd\n",
    "import numpy as np\n",
    "import matplotlib.pyplot as plt\n",
    "import seaborn as sns\n",
    "from sklearn.model_selection import train_test_split as tts\n",
    "from sklearn.preprocessing import StandardScaler, OneHotEncoder\n",
    "from sklearn.compose import ColumnTransformer\n",
    "from sklearn.pipeline import Pipeline\n",
    "from sklearn.ensemble import RandomForestRegressor\n",
    "from sklearn.metrics import mean_squared_error\n",
    "from sklearn.model_selection import cross_val_score"
   ]
  },
  {
   "cell_type": "markdown",
   "metadata": {},
   "source": [
    "### 1. Load and explore data 💾"
   ]
  },
  {
   "cell_type": "markdown",
   "metadata": {},
   "source": [
    "#### Column information\n",
    "- `id`: Identificador único de la propiedad.\n",
    "- `log_price`: El precio del alquiler de la propiedad en formato de registro. VARIABLE A PREDECIR\n",
    "- `property_type`: Tipo de propiedad (ej. apartamento, casa, etc.).\n",
    "- `room_type`: Tipo de habitación (ej. habitación privada, casa/apartamento completo, etc.).\n",
    "- `amenities`: Comodidades ofrecidas en la propiedad.\n",
    "- `accommodates`: Número máximo de huéspedes que la propiedad puede acomodar.\n",
    "- `bathrooms`: Número de baños en la propiedad.\n",
    "- `bed_type`: Tipo de cama (ej. cama matrimonial, sofá cama, etc.).\n",
    "- `cancellation_policy`: Política de cancelación para reservas.\n",
    "- `cleaning_fee`: Si se cobra una tarifa de limpieza (True/False).\n",
    "- `city`: Ciudad donde se encuentra la propiedad.\n",
    "- `description`: Descripción de la propiedad.\n",
    "- `first_review`: Fecha de la primera revisión.\n",
    "- `host_has_profile_pic`: Si el anfitrión tiene una foto de perfil (True/False).\n",
    "- `host_identity_verified`: Si la identidad del anfitrión está verificada (True/False).\n",
    "- `host_response_rate`: Tasa de respuesta del anfitrión.\n",
    "- `host_since`: Fecha en que el anfitrión se unió a Airbnb.\n",
    "- `instant_bookable`: Si la propiedad puede ser reservada instantáneamente (True/False).\n",
    "- `last_review`: Fecha de la última revisión.\n",
    "- `latitude`: Latitud geográfica de la propiedad.\n",
    "- `longitude`: Longitud geográfica de la propiedad.\n",
    "- `name`: Nombre de la propiedad.\n",
    "- `neighbourhood`: Barrio donde se encuentra la propiedad.\n",
    "- `number_of_reviews`: Número total de revisiones de la propiedad.\n",
    "- `review_scores_rating`: Puntuación general de las revisiones.\n",
    "- `thumbnail_url`: URL de la miniatura de la propiedad.\n",
    "- `zipcode`: Código postal de la propiedad.\n",
    "- `bedrooms`: Número de dormitorios en la propiedad.\n",
    "- `beds`: Número de camas en la propiedad."
   ]
  },
  {
   "cell_type": "code",
   "execution_count": 2,
   "metadata": {},
   "outputs": [],
   "source": [
    "# Load the data\n",
    "train_data = pd.read_csv('train.csv')\n",
    "test_data = pd.read_csv('test.csv')"
   ]
  },
  {
   "cell_type": "code",
   "execution_count": 3,
   "metadata": {},
   "outputs": [
    {
     "data": {
      "text/plain": [
       "((14823, 28), (59288, 29))"
      ]
     },
     "execution_count": 3,
     "metadata": {},
     "output_type": "execute_result"
    }
   ],
   "source": [
    "test_data.shape, train_data.shape"
   ]
  },
  {
   "cell_type": "code",
   "execution_count": 4,
   "metadata": {},
   "outputs": [
    {
     "name": "stdout",
     "output_type": "stream",
     "text": [
      "<class 'pandas.core.frame.DataFrame'>\n",
      "RangeIndex: 59288 entries, 0 to 59287\n",
      "Data columns (total 29 columns):\n",
      " #   Column                  Non-Null Count  Dtype  \n",
      "---  ------                  --------------  -----  \n",
      " 0   id                      59288 non-null  int64  \n",
      " 1   log_price               59288 non-null  float64\n",
      " 2   property_type           59288 non-null  object \n",
      " 3   room_type               59288 non-null  object \n",
      " 4   amenities               59288 non-null  object \n",
      " 5   accommodates            59288 non-null  int64  \n",
      " 6   bathrooms               59139 non-null  float64\n",
      " 7   bed_type                59288 non-null  object \n",
      " 8   cancellation_policy     59288 non-null  object \n",
      " 9   cleaning_fee            59288 non-null  bool   \n",
      " 10  city                    59288 non-null  object \n",
      " 11  description             59288 non-null  object \n",
      " 12  first_review            46601 non-null  object \n",
      " 13  host_has_profile_pic    59148 non-null  object \n",
      " 14  host_identity_verified  59148 non-null  object \n",
      " 15  host_response_rate      44660 non-null  object \n",
      " 16  host_since              59148 non-null  object \n",
      " 17  instant_bookable        59288 non-null  object \n",
      " 18  last_review             46628 non-null  object \n",
      " 19  latitude                59288 non-null  float64\n",
      " 20  longitude               59288 non-null  float64\n",
      " 21  name                    59288 non-null  object \n",
      " 22  neighbourhood           53765 non-null  object \n",
      " 23  number_of_reviews       59288 non-null  int64  \n",
      " 24  review_scores_rating    45922 non-null  float64\n",
      " 25  thumbnail_url           52666 non-null  object \n",
      " 26  zipcode                 58533 non-null  object \n",
      " 27  bedrooms                59211 non-null  float64\n",
      " 28  beds                    59188 non-null  float64\n",
      "dtypes: bool(1), float64(7), int64(3), object(18)\n",
      "memory usage: 12.7+ MB\n"
     ]
    }
   ],
   "source": [
    "train_data.info()"
   ]
  },
  {
   "cell_type": "markdown",
   "metadata": {},
   "source": [
    "### 2. Null handling"
   ]
  },
  {
   "cell_type": "code",
   "execution_count": 5,
   "metadata": {},
   "outputs": [
    {
     "data": {
      "text/plain": [
       "id                            0\n",
       "log_price                     0\n",
       "property_type                 0\n",
       "room_type                     0\n",
       "amenities                     0\n",
       "accommodates                  0\n",
       "bathrooms                   149\n",
       "bed_type                      0\n",
       "cancellation_policy           0\n",
       "cleaning_fee                  0\n",
       "city                          0\n",
       "description                   0\n",
       "first_review              12687\n",
       "host_has_profile_pic        140\n",
       "host_identity_verified      140\n",
       "host_response_rate        14628\n",
       "host_since                  140\n",
       "instant_bookable              0\n",
       "last_review               12660\n",
       "latitude                      0\n",
       "longitude                     0\n",
       "name                          0\n",
       "neighbourhood              5523\n",
       "number_of_reviews             0\n",
       "review_scores_rating      13366\n",
       "thumbnail_url              6622\n",
       "zipcode                     755\n",
       "bedrooms                     77\n",
       "beds                        100\n",
       "dtype: int64"
      ]
     },
     "execution_count": 5,
     "metadata": {},
     "output_type": "execute_result"
    }
   ],
   "source": [
    "train_data.isna().sum() # Train data nulls"
   ]
  },
  {
   "cell_type": "code",
   "execution_count": 6,
   "metadata": {},
   "outputs": [],
   "source": [
    "# Drop columns with a high number of missing values or those not relevant for now\n",
    "train_data = train_data.drop(['first_review', 'host_response_rate', 'last_review', \n",
    "                              'review_scores_rating', 'thumbnail_url', 'neighbourhood', \n",
    "                              'zipcode', 'id', 'description', 'host_since', 'name'], axis=1)\n",
    "\n",
    "train_data.dropna(inplace=True)"
   ]
  },
  {
   "cell_type": "markdown",
   "metadata": {},
   "source": [
    "### 3. Coding of categorical variables and scaling of numerical features"
   ]
  },
  {
   "cell_type": "code",
   "execution_count": 7,
   "metadata": {},
   "outputs": [],
   "source": [
    "numeric_features = ['accommodates', 'bathrooms', 'latitude', 'longitude', 'bedrooms', 'beds']\n",
    "categorical_features = ['property_type', 'room_type', 'bed_type', 'cancellation_policy', 'city']"
   ]
  },
  {
   "cell_type": "code",
   "execution_count": 8,
   "metadata": {},
   "outputs": [],
   "source": [
    "# drop columns with too many unique values\n",
    "\n",
    "# train_data.drop(['thumbnail_url', 'zipcode', 'id', 'description', 'host_since', 'name','longitude', 'latitude'], axis=1, inplace=True)"
   ]
  },
  {
   "cell_type": "markdown",
   "metadata": {},
   "source": [
    "### 4. Create  and apply transformers"
   ]
  },
  {
   "cell_type": "code",
   "execution_count": 9,
   "metadata": {},
   "outputs": [],
   "source": [
    "# Create transformers\n",
    "numeric_transformer = Pipeline(steps=[\n",
    "    ('scaler', StandardScaler())\n",
    "])\n",
    "\n",
    "categorical_transformer = Pipeline(steps=[\n",
    "    ('onehot', OneHotEncoder(handle_unknown='ignore'))\n",
    "])\n",
    "\n",
    "# Apply transformers\n",
    "preprocessor = ColumnTransformer(\n",
    "    transformers=[\n",
    "        ('num', numeric_transformer, numeric_features),\n",
    "        ('cat', categorical_transformer, categorical_features)\n",
    "    ])"
   ]
  },
  {
   "cell_type": "code",
   "execution_count": 10,
   "metadata": {},
   "outputs": [
    {
     "data": {
      "text/plain": [
       "0    {TV,Internet,\"Wireless Internet\",\"Air conditio...\n",
       "1    {Internet,\"Wireless Internet\",\"Air conditionin...\n",
       "2    {\"Wireless Internet\",\"Air conditioning\",\"Wheel...\n",
       "4    {TV,\"Wireless Internet\",\"Air conditioning\",Kit...\n",
       "5    {TV,\"Cable TV\",Internet,\"Wireless Internet\",\"A...\n",
       "Name: amenities, dtype: object"
      ]
     },
     "execution_count": 10,
     "metadata": {},
     "output_type": "execute_result"
    }
   ],
   "source": [
    "train_data['amenities'].head()"
   ]
  },
  {
   "cell_type": "code",
   "execution_count": 11,
   "metadata": {},
   "outputs": [],
   "source": [
    "# Create a new column called 'num_amenities' based on the existing 'amenities' column.\n",
    "train_data['num_amenities'] = train_data['amenities'].apply(lambda x: len(x.split(',')))"
   ]
  },
  {
   "cell_type": "code",
   "execution_count": 12,
   "metadata": {},
   "outputs": [],
   "source": [
    "# Split the train dataframe for tts\n",
    "X = train_data.drop('log_price', axis=1)\n",
    "y = train_data['log_price']\n",
    "X_train, X_val, y_train, y_val = tts(X, y, test_size=0.2, random_state=42)"
   ]
  },
  {
   "cell_type": "code",
   "execution_count": 13,
   "metadata": {},
   "outputs": [],
   "source": [
    "# Regression model\n",
    "model = RandomForestRegressor(n_estimators=100, random_state=42)"
   ]
  },
  {
   "cell_type": "code",
   "execution_count": 14,
   "metadata": {},
   "outputs": [],
   "source": [
    "# Pipeline with preprocessing and model\n",
    "pipeline = Pipeline(steps=[('preprocessor', preprocessor),\n",
    "                           ('model', model)])"
   ]
  },
  {
   "cell_type": "code",
   "execution_count": 15,
   "metadata": {},
   "outputs": [
    {
     "data": {
      "text/html": [
       "<style>#sk-container-id-1 {color: black;}#sk-container-id-1 pre{padding: 0;}#sk-container-id-1 div.sk-toggleable {background-color: white;}#sk-container-id-1 label.sk-toggleable__label {cursor: pointer;display: block;width: 100%;margin-bottom: 0;padding: 0.3em;box-sizing: border-box;text-align: center;}#sk-container-id-1 label.sk-toggleable__label-arrow:before {content: \"▸\";float: left;margin-right: 0.25em;color: #696969;}#sk-container-id-1 label.sk-toggleable__label-arrow:hover:before {color: black;}#sk-container-id-1 div.sk-estimator:hover label.sk-toggleable__label-arrow:before {color: black;}#sk-container-id-1 div.sk-toggleable__content {max-height: 0;max-width: 0;overflow: hidden;text-align: left;background-color: #f0f8ff;}#sk-container-id-1 div.sk-toggleable__content pre {margin: 0.2em;color: black;border-radius: 0.25em;background-color: #f0f8ff;}#sk-container-id-1 input.sk-toggleable__control:checked~div.sk-toggleable__content {max-height: 200px;max-width: 100%;overflow: auto;}#sk-container-id-1 input.sk-toggleable__control:checked~label.sk-toggleable__label-arrow:before {content: \"▾\";}#sk-container-id-1 div.sk-estimator input.sk-toggleable__control:checked~label.sk-toggleable__label {background-color: #d4ebff;}#sk-container-id-1 div.sk-label input.sk-toggleable__control:checked~label.sk-toggleable__label {background-color: #d4ebff;}#sk-container-id-1 input.sk-hidden--visually {border: 0;clip: rect(1px 1px 1px 1px);clip: rect(1px, 1px, 1px, 1px);height: 1px;margin: -1px;overflow: hidden;padding: 0;position: absolute;width: 1px;}#sk-container-id-1 div.sk-estimator {font-family: monospace;background-color: #f0f8ff;border: 1px dotted black;border-radius: 0.25em;box-sizing: border-box;margin-bottom: 0.5em;}#sk-container-id-1 div.sk-estimator:hover {background-color: #d4ebff;}#sk-container-id-1 div.sk-parallel-item::after {content: \"\";width: 100%;border-bottom: 1px solid gray;flex-grow: 1;}#sk-container-id-1 div.sk-label:hover label.sk-toggleable__label {background-color: #d4ebff;}#sk-container-id-1 div.sk-serial::before {content: \"\";position: absolute;border-left: 1px solid gray;box-sizing: border-box;top: 0;bottom: 0;left: 50%;z-index: 0;}#sk-container-id-1 div.sk-serial {display: flex;flex-direction: column;align-items: center;background-color: white;padding-right: 0.2em;padding-left: 0.2em;position: relative;}#sk-container-id-1 div.sk-item {position: relative;z-index: 1;}#sk-container-id-1 div.sk-parallel {display: flex;align-items: stretch;justify-content: center;background-color: white;position: relative;}#sk-container-id-1 div.sk-item::before, #sk-container-id-1 div.sk-parallel-item::before {content: \"\";position: absolute;border-left: 1px solid gray;box-sizing: border-box;top: 0;bottom: 0;left: 50%;z-index: -1;}#sk-container-id-1 div.sk-parallel-item {display: flex;flex-direction: column;z-index: 1;position: relative;background-color: white;}#sk-container-id-1 div.sk-parallel-item:first-child::after {align-self: flex-end;width: 50%;}#sk-container-id-1 div.sk-parallel-item:last-child::after {align-self: flex-start;width: 50%;}#sk-container-id-1 div.sk-parallel-item:only-child::after {width: 0;}#sk-container-id-1 div.sk-dashed-wrapped {border: 1px dashed gray;margin: 0 0.4em 0.5em 0.4em;box-sizing: border-box;padding-bottom: 0.4em;background-color: white;}#sk-container-id-1 div.sk-label label {font-family: monospace;font-weight: bold;display: inline-block;line-height: 1.2em;}#sk-container-id-1 div.sk-label-container {text-align: center;}#sk-container-id-1 div.sk-container {/* jupyter's `normalize.less` sets `[hidden] { display: none; }` but bootstrap.min.css set `[hidden] { display: none !important; }` so we also need the `!important` here to be able to override the default hidden behavior on the sphinx rendered scikit-learn.org. See: https://github.com/scikit-learn/scikit-learn/issues/21755 */display: inline-block !important;position: relative;}#sk-container-id-1 div.sk-text-repr-fallback {display: none;}</style><div id=\"sk-container-id-1\" class=\"sk-top-container\"><div class=\"sk-text-repr-fallback\"><pre>Pipeline(steps=[(&#x27;preprocessor&#x27;,\n",
       "                 ColumnTransformer(transformers=[(&#x27;num&#x27;,\n",
       "                                                  Pipeline(steps=[(&#x27;scaler&#x27;,\n",
       "                                                                   StandardScaler())]),\n",
       "                                                  [&#x27;accommodates&#x27;, &#x27;bathrooms&#x27;,\n",
       "                                                   &#x27;latitude&#x27;, &#x27;longitude&#x27;,\n",
       "                                                   &#x27;bedrooms&#x27;, &#x27;beds&#x27;]),\n",
       "                                                 (&#x27;cat&#x27;,\n",
       "                                                  Pipeline(steps=[(&#x27;onehot&#x27;,\n",
       "                                                                   OneHotEncoder(handle_unknown=&#x27;ignore&#x27;))]),\n",
       "                                                  [&#x27;property_type&#x27;, &#x27;room_type&#x27;,\n",
       "                                                   &#x27;bed_type&#x27;,\n",
       "                                                   &#x27;cancellation_policy&#x27;,\n",
       "                                                   &#x27;city&#x27;])])),\n",
       "                (&#x27;model&#x27;, RandomForestRegressor(random_state=42))])</pre><b>In a Jupyter environment, please rerun this cell to show the HTML representation or trust the notebook. <br />On GitHub, the HTML representation is unable to render, please try loading this page with nbviewer.org.</b></div><div class=\"sk-container\" hidden><div class=\"sk-item sk-dashed-wrapped\"><div class=\"sk-label-container\"><div class=\"sk-label sk-toggleable\"><input class=\"sk-toggleable__control sk-hidden--visually\" id=\"sk-estimator-id-1\" type=\"checkbox\" ><label for=\"sk-estimator-id-1\" class=\"sk-toggleable__label sk-toggleable__label-arrow\">Pipeline</label><div class=\"sk-toggleable__content\"><pre>Pipeline(steps=[(&#x27;preprocessor&#x27;,\n",
       "                 ColumnTransformer(transformers=[(&#x27;num&#x27;,\n",
       "                                                  Pipeline(steps=[(&#x27;scaler&#x27;,\n",
       "                                                                   StandardScaler())]),\n",
       "                                                  [&#x27;accommodates&#x27;, &#x27;bathrooms&#x27;,\n",
       "                                                   &#x27;latitude&#x27;, &#x27;longitude&#x27;,\n",
       "                                                   &#x27;bedrooms&#x27;, &#x27;beds&#x27;]),\n",
       "                                                 (&#x27;cat&#x27;,\n",
       "                                                  Pipeline(steps=[(&#x27;onehot&#x27;,\n",
       "                                                                   OneHotEncoder(handle_unknown=&#x27;ignore&#x27;))]),\n",
       "                                                  [&#x27;property_type&#x27;, &#x27;room_type&#x27;,\n",
       "                                                   &#x27;bed_type&#x27;,\n",
       "                                                   &#x27;cancellation_policy&#x27;,\n",
       "                                                   &#x27;city&#x27;])])),\n",
       "                (&#x27;model&#x27;, RandomForestRegressor(random_state=42))])</pre></div></div></div><div class=\"sk-serial\"><div class=\"sk-item sk-dashed-wrapped\"><div class=\"sk-label-container\"><div class=\"sk-label sk-toggleable\"><input class=\"sk-toggleable__control sk-hidden--visually\" id=\"sk-estimator-id-2\" type=\"checkbox\" ><label for=\"sk-estimator-id-2\" class=\"sk-toggleable__label sk-toggleable__label-arrow\">preprocessor: ColumnTransformer</label><div class=\"sk-toggleable__content\"><pre>ColumnTransformer(transformers=[(&#x27;num&#x27;,\n",
       "                                 Pipeline(steps=[(&#x27;scaler&#x27;, StandardScaler())]),\n",
       "                                 [&#x27;accommodates&#x27;, &#x27;bathrooms&#x27;, &#x27;latitude&#x27;,\n",
       "                                  &#x27;longitude&#x27;, &#x27;bedrooms&#x27;, &#x27;beds&#x27;]),\n",
       "                                (&#x27;cat&#x27;,\n",
       "                                 Pipeline(steps=[(&#x27;onehot&#x27;,\n",
       "                                                  OneHotEncoder(handle_unknown=&#x27;ignore&#x27;))]),\n",
       "                                 [&#x27;property_type&#x27;, &#x27;room_type&#x27;, &#x27;bed_type&#x27;,\n",
       "                                  &#x27;cancellation_policy&#x27;, &#x27;city&#x27;])])</pre></div></div></div><div class=\"sk-parallel\"><div class=\"sk-parallel-item\"><div class=\"sk-item\"><div class=\"sk-label-container\"><div class=\"sk-label sk-toggleable\"><input class=\"sk-toggleable__control sk-hidden--visually\" id=\"sk-estimator-id-3\" type=\"checkbox\" ><label for=\"sk-estimator-id-3\" class=\"sk-toggleable__label sk-toggleable__label-arrow\">num</label><div class=\"sk-toggleable__content\"><pre>[&#x27;accommodates&#x27;, &#x27;bathrooms&#x27;, &#x27;latitude&#x27;, &#x27;longitude&#x27;, &#x27;bedrooms&#x27;, &#x27;beds&#x27;]</pre></div></div></div><div class=\"sk-serial\"><div class=\"sk-item\"><div class=\"sk-serial\"><div class=\"sk-item\"><div class=\"sk-estimator sk-toggleable\"><input class=\"sk-toggleable__control sk-hidden--visually\" id=\"sk-estimator-id-4\" type=\"checkbox\" ><label for=\"sk-estimator-id-4\" class=\"sk-toggleable__label sk-toggleable__label-arrow\">StandardScaler</label><div class=\"sk-toggleable__content\"><pre>StandardScaler()</pre></div></div></div></div></div></div></div></div><div class=\"sk-parallel-item\"><div class=\"sk-item\"><div class=\"sk-label-container\"><div class=\"sk-label sk-toggleable\"><input class=\"sk-toggleable__control sk-hidden--visually\" id=\"sk-estimator-id-5\" type=\"checkbox\" ><label for=\"sk-estimator-id-5\" class=\"sk-toggleable__label sk-toggleable__label-arrow\">cat</label><div class=\"sk-toggleable__content\"><pre>[&#x27;property_type&#x27;, &#x27;room_type&#x27;, &#x27;bed_type&#x27;, &#x27;cancellation_policy&#x27;, &#x27;city&#x27;]</pre></div></div></div><div class=\"sk-serial\"><div class=\"sk-item\"><div class=\"sk-serial\"><div class=\"sk-item\"><div class=\"sk-estimator sk-toggleable\"><input class=\"sk-toggleable__control sk-hidden--visually\" id=\"sk-estimator-id-6\" type=\"checkbox\" ><label for=\"sk-estimator-id-6\" class=\"sk-toggleable__label sk-toggleable__label-arrow\">OneHotEncoder</label><div class=\"sk-toggleable__content\"><pre>OneHotEncoder(handle_unknown=&#x27;ignore&#x27;)</pre></div></div></div></div></div></div></div></div></div></div><div class=\"sk-item\"><div class=\"sk-estimator sk-toggleable\"><input class=\"sk-toggleable__control sk-hidden--visually\" id=\"sk-estimator-id-7\" type=\"checkbox\" ><label for=\"sk-estimator-id-7\" class=\"sk-toggleable__label sk-toggleable__label-arrow\">RandomForestRegressor</label><div class=\"sk-toggleable__content\"><pre>RandomForestRegressor(random_state=42)</pre></div></div></div></div></div></div></div>"
      ],
      "text/plain": [
       "Pipeline(steps=[('preprocessor',\n",
       "                 ColumnTransformer(transformers=[('num',\n",
       "                                                  Pipeline(steps=[('scaler',\n",
       "                                                                   StandardScaler())]),\n",
       "                                                  ['accommodates', 'bathrooms',\n",
       "                                                   'latitude', 'longitude',\n",
       "                                                   'bedrooms', 'beds']),\n",
       "                                                 ('cat',\n",
       "                                                  Pipeline(steps=[('onehot',\n",
       "                                                                   OneHotEncoder(handle_unknown='ignore'))]),\n",
       "                                                  ['property_type', 'room_type',\n",
       "                                                   'bed_type',\n",
       "                                                   'cancellation_policy',\n",
       "                                                   'city'])])),\n",
       "                ('model', RandomForestRegressor(random_state=42))])"
      ]
     },
     "execution_count": 15,
     "metadata": {},
     "output_type": "execute_result"
    }
   ],
   "source": [
    "# Train the model\n",
    "pipeline.fit(X_train, y_train)"
   ]
  },
  {
   "cell_type": "code",
   "execution_count": 16,
   "metadata": {},
   "outputs": [
    {
     "name": "stdout",
     "output_type": "stream",
     "text": [
      "RMSE for the validation set: 0.4195058870725698\n"
     ]
    }
   ],
   "source": [
    "# Evaluate the model\n",
    "# Predicciones en el conjunto de validación\n",
    "y_pred = pipeline.predict(X_val)\n",
    "\n",
    "# RMSE of the validation \n",
    "rmse = np.sqrt(mean_squared_error(y_val, y_pred))\n",
    "print(f'RMSE for the validation set: {rmse}')"
   ]
  },
  {
   "cell_type": "code",
   "execution_count": 17,
   "metadata": {},
   "outputs": [
    {
     "data": {
      "text/plain": [
       "array([4.65206873, 4.50536329, 4.10091525, ..., 3.97938298, 4.0204029 ,\n",
       "       4.92086066])"
      ]
     },
     "execution_count": 17,
     "metadata": {},
     "output_type": "execute_result"
    }
   ],
   "source": [
    "y_pred"
   ]
  },
  {
   "cell_type": "markdown",
   "metadata": {},
   "source": [
    "### Test Data Preprocessing"
   ]
  },
  {
   "cell_type": "code",
   "execution_count": 18,
   "metadata": {},
   "outputs": [
    {
     "data": {
      "text/plain": [
       "id                        0\n",
       "property_type             0\n",
       "room_type                 0\n",
       "amenities                 0\n",
       "accommodates              0\n",
       "bathrooms                 0\n",
       "bed_type                  0\n",
       "cancellation_policy       0\n",
       "cleaning_fee              0\n",
       "city                      0\n",
       "description               0\n",
       "first_review              0\n",
       "host_has_profile_pic      0\n",
       "host_identity_verified    0\n",
       "host_response_rate        0\n",
       "host_since                0\n",
       "instant_bookable          0\n",
       "last_review               0\n",
       "latitude                  0\n",
       "longitude                 0\n",
       "name                      0\n",
       "number_of_reviews         0\n",
       "review_scores_rating      0\n",
       "bedrooms                  0\n",
       "beds                      0\n",
       "dtype: int64"
      ]
     },
     "execution_count": 18,
     "metadata": {},
     "output_type": "execute_result"
    }
   ],
   "source": [
    "test_data['bathrooms'].fillna(test_data['bathrooms'].median(), inplace=True) # Fill bathroom data with median\n",
    "test_data['bedrooms'].fillna(test_data['bedrooms'].median(), inplace=True) # Fill bedrooms with median\n",
    "test_data['beds'].fillna(test_data['beds'].median(), inplace=True) # Fill beds with median\n",
    "\n",
    " # Transform host response rate to float and remove the % \n",
    "test_data['host_response_rate'] = test_data['host_response_rate'].str.rstrip('%').astype('float') / 100.0\n",
    "# Fill host response rate nulls with the mean\n",
    "test_data['host_response_rate'].fillna(test_data['host_response_rate'].mean(), inplace=True)\n",
    "\n",
    "# Fill the date data with no information\n",
    "test_data['first_review'].fillna('1900-01-01', inplace=True)\n",
    "test_data['last_review'].fillna('1900-01-01', inplace=True)\n",
    "\n",
    "# Drop neighbourhood, thumbnail URL and Zipcode\n",
    "test_data = test_data.drop(['neighbourhood', 'thumbnail_url', 'zipcode'], axis=1)\n",
    "\n",
    "# Fill host_has_profile_pic and host_identity_verified with mode\n",
    "test_data['host_has_profile_pic'].fillna(test_data['host_has_profile_pic'].mode()[0], inplace=True)\n",
    "test_data['host_identity_verified'].fillna(test_data['host_identity_verified'].mode()[0], inplace=True)\n",
    "\n",
    "#  Fill review_scores_rating and host_since \n",
    "test_data['review_scores_rating'].fillna(test_data['review_scores_rating'].mean(), inplace=True)\n",
    "test_data['host_since'].fillna(test_data['host_since'].mode()[0], inplace=True)\n",
    "\n",
    "# Check if there is any nulls left\n",
    "test_data.isnull().sum()"
   ]
  },
  {
   "cell_type": "code",
   "execution_count": 19,
   "metadata": {},
   "outputs": [],
   "source": [
    "# Predictions for the test data\n",
    "test_pred = pipeline.predict(test_data)"
   ]
  },
  {
   "cell_type": "code",
   "execution_count": 20,
   "metadata": {},
   "outputs": [
    {
     "data": {
      "text/plain": [
       "14823"
      ]
     },
     "execution_count": 20,
     "metadata": {},
     "output_type": "execute_result"
    }
   ],
   "source": [
    "test_pred.shape[0] # Check if the df has the required 14823 rows for the submission"
   ]
  },
  {
   "cell_type": "code",
   "execution_count": 21,
   "metadata": {},
   "outputs": [],
   "source": [
    "# Save the predicted log_price of test_data as a Dataframe\n",
    "submission = pd.DataFrame({'id': range(len(test_data)), 'log_price': test_pred})\n",
    "\n",
    "# Export the DataFrame to a CSV file\n",
    "submission.to_csv('submission.csv', index=False)"
   ]
  }
 ],
 "metadata": {
  "kernelspec": {
   "display_name": "myenv",
   "language": "python",
   "name": "python3"
  },
  "language_info": {
   "codemirror_mode": {
    "name": "ipython",
    "version": 3
   },
   "file_extension": ".py",
   "mimetype": "text/x-python",
   "name": "python",
   "nbconvert_exporter": "python",
   "pygments_lexer": "ipython3",
   "version": "3.8.18"
  }
 },
 "nbformat": 4,
 "nbformat_minor": 2
}
